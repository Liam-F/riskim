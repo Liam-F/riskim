{
 "metadata": {
  "name": "",
  "signature": "sha256:d85b0d38f33864a12d7539a8bdd0af2d786684e84289726d9cfa36542ab319c1"
 },
 "nbformat": 3,
 "nbformat_minor": 0,
 "worksheets": [
  {
   "cells": [
    {
     "cell_type": "code",
     "collapsed": false,
     "input": [
      "print(__doc__)\n",
      "# author: Gael Varoquaux <gael.varoquaux@inria.fr>\n",
      "# License: BSD 3 clause\n",
      "# Copyright: INRIA\n",
      "\n",
      "import numpy as np\n",
      "\n",
      "from sklearn.covariance import GraphLassoCV, ledoit_wolf\n",
      "import matplotlib.pyplot as plt"
     ],
     "language": "python",
     "metadata": {},
     "outputs": [
      {
       "output_type": "stream",
       "stream": "stdout",
       "text": [
        "Automatically created module for IPython interactive environment\n"
       ]
      }
     ],
     "prompt_number": 1
    },
    {
     "cell_type": "code",
     "collapsed": false,
     "input": [
      "from scipy import linalg\n",
      "from sklearn.datasets import make_sparse_spd_matrix\n",
      "\n",
      "n_samples = 60\n",
      "n_features = 20\n",
      "\n",
      "prng = np.random.RandomState(1)\n",
      "prec = make_sparse_spd_matrix(n_features, alpha=.98,\n",
      "                              smallest_coef=.4,\n",
      "                              largest_coef=.7,\n",
      "                              random_state=prng)\n",
      "cov = linalg.inv(prec)\n",
      "d = np.sqrt(np.diag(cov))\n",
      "cov /= d\n",
      "cov /= d[:, np.newaxis]\n",
      "prec *= d\n",
      "prec *= d[:, np.newaxis]\n",
      "X = prng.multivariate_normal(np.zeros(n_features), cov, size=n_samples)\n",
      "X -= X.mean(axis=0)\n",
      "X /= X.std(axis=0)"
     ],
     "language": "python",
     "metadata": {},
     "outputs": [],
     "prompt_number": 2
    },
    {
     "cell_type": "code",
     "collapsed": false,
     "input": [
      "emp_cov = np.dot(X.T, X) / n_samples\n",
      "\n",
      "model = GraphLassoCV()\n",
      "model.fit(X)\n",
      "cov_ = model.covariance_\n",
      "prec_ = model.precision_\n",
      "\n",
      "lw_cov_, _ = ledoit_wolf(X)\n",
      "lw_prec_ = linalg.inv(lw_cov_)"
     ],
     "language": "python",
     "metadata": {},
     "outputs": [],
     "prompt_number": 3
    },
    {
     "cell_type": "code",
     "collapsed": false,
     "input": [
      "plt.figure(figsize=(10, 6))\n",
      "plt.subplots_adjust(left=0.02, right=0.98)\n",
      "\n",
      "# plot the covariances\n",
      "covs = [('Empirical', emp_cov), ('Ledoit-Wolf', lw_cov_),\n",
      "        ('GraphLasso', cov_), ('True', cov)]\n",
      "vmax = cov_.max()\n",
      "for i, (name, this_cov) in enumerate(covs):\n",
      "    plt.subplot(2, 4, i + 1)\n",
      "    plt.imshow(this_cov, interpolation='nearest', vmin=-vmax, vmax=vmax,\n",
      "               cmap=plt.cm.RdBu_r)\n",
      "    plt.xticks(())\n",
      "    plt.yticks(())\n",
      "    plt.title('%s covariance' % name)\n",
      "\n",
      "\n",
      "# plot the precisions\n",
      "precs = [('Empirical', linalg.inv(emp_cov)), ('Ledoit-Wolf', lw_prec_),\n",
      "         ('GraphLasso', prec_), ('True', prec)]\n",
      "vmax = .9 * prec_.max()\n",
      "for i, (name, this_prec) in enumerate(precs):\n",
      "    ax = plt.subplot(2, 4, i + 5)\n",
      "    plt.imshow(np.ma.masked_equal(this_prec, 0),\n",
      "               interpolation='nearest', vmin=-vmax, vmax=vmax,\n",
      "               cmap=plt.cm.RdBu_r)\n",
      "    plt.xticks(())\n",
      "    plt.yticks(())\n",
      "    plt.title('%s precision' % name)\n",
      "    ax.set_axis_bgcolor('.7')\n",
      "\n",
      "# plot the model selection metric\n",
      "plt.figure(figsize=(4, 3))\n",
      "plt.axes([.2, .15, .75, .7])\n",
      "plt.plot(model.cv_alphas_, np.mean(model.grid_scores, axis=1), 'o-')\n",
      "plt.axvline(model.alpha_, color='.5')\n",
      "plt.title('Model selection')\n",
      "plt.ylabel('Cross-validation score')\n",
      "plt.xlabel('alpha')\n",
      "\n",
      "plt.show()"
     ],
     "language": "python",
     "metadata": {},
     "outputs": [],
     "prompt_number": 4
    }
   ],
   "metadata": {}
  }
 ]
}